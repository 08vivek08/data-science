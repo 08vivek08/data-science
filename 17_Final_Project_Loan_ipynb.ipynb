{
  "nbformat": 4,
  "nbformat_minor": 0,
  "metadata": {
    "kernelspec": {
      "name": "python3",
      "display_name": "Python 3.7",
      "language": "python"
    },
    "language_info": {
      "name": "python",
      "version": "3.7.9",
      "mimetype": "text/x-python",
      "codemirror_mode": {
        "name": "ipython",
        "version": 3
      },
      "pygments_lexer": "ipython3",
      "nbconvert_exporter": "python",
      "file_extension": ".py"
    },
    "colab": {
      "name": "17-Final-Project-Loan.ipynb.ipynb",
      "provenance": [],
      "collapsed_sections": [],
      "include_colab_link": true
    },
    "accelerator": "TPU"
  },
  "cells": [
    {
      "cell_type": "markdown",
      "metadata": {
        "id": "view-in-github",
        "colab_type": "text"
      },
      "source": [
        "<a href=\"https://colab.research.google.com/github/08vivek08/data-science/blob/main/17_Final_Project_Loan_ipynb.ipynb\" target=\"_parent\"><img src=\"https://colab.research.google.com/assets/colab-badge.svg\" alt=\"Open In Colab\"/></a>"
      ]
    },
    {
      "cell_type": "markdown",
      "metadata": {
        "button": false,
        "new_sheet": false,
        "run_control": {
          "read_only": false
        },
        "id": "UivFWIp-EnrE"
      },
      "source": [
        "<center>\n",
        "    <img src=\"https://s3-api.us-geo.objectstorage.softlayer.net/cf-courses-data/CognitiveClass/Logos/organization_logo/organization_logo.png\" width=\"300\" alt=\"cognitiveclass.ai logo\"  />\n",
        "</center>\n",
        "\n",
        "<h1 align=\"center\"><font size=\"5\">Classification with Python</font></h1>\n"
      ]
    },
    {
      "cell_type": "markdown",
      "metadata": {
        "button": false,
        "new_sheet": false,
        "run_control": {
          "read_only": false
        },
        "id": "jkAwvBCfEnra"
      },
      "source": [
        "In this notebook we try to practice all the classification algorithms that we learned in this course.\n",
        "\n",
        "We load a dataset using Pandas library, and apply the following algorithms, and find the best one for this specific dataset by accuracy evaluation methods.\n",
        "\n",
        "Lets first load required libraries:\n"
      ]
    },
    {
      "cell_type": "code",
      "metadata": {
        "button": false,
        "new_sheet": false,
        "run_control": {
          "read_only": false
        },
        "id": "TJ-M8_RzEnrc"
      },
      "source": [
        "import itertools\n",
        "import numpy as np\n",
        "import matplotlib.pyplot as plt\n",
        "import matplotlib.style as style\n",
        "from matplotlib.ticker import NullFormatter\n",
        "import pandas as pd\n",
        "import numpy as np\n",
        "import matplotlib.ticker as ticker\n",
        "from sklearn import preprocessing\n",
        "%matplotlib inline\n",
        "style.use('ggplot')"
      ],
      "execution_count": 1,
      "outputs": []
    },
    {
      "cell_type": "markdown",
      "metadata": {
        "button": false,
        "new_sheet": false,
        "run_control": {
          "read_only": false
        },
        "id": "an4vB3uaEnrd"
      },
      "source": [
        "### About dataset\n"
      ]
    },
    {
      "cell_type": "markdown",
      "metadata": {
        "button": false,
        "new_sheet": false,
        "run_control": {
          "read_only": false
        },
        "id": "ngtIup2fEnrd"
      },
      "source": [
        "This dataset is about past loans. The **Loan_train.csv** data set includes details of 346 customers whose loan are already paid off or defaulted. It includes following fields:\n",
        "\n",
        "| Field          | Description                                                                           |\n",
        "| -------------- | ------------------------------------------------------------------------------------- |\n",
        "| Loan_status    | Whether a loan is paid off on in collection                                           |\n",
        "| Principal      | Basic principal loan amount at the                                                    |\n",
        "| Terms          | Origination terms which can be weekly (7 days), biweekly, and monthly payoff schedule |\n",
        "| Effective_date | When the loan got originated and took effects                                         |\n",
        "| Due_date       | Since it’s one-time payoff schedule, each loan has one single due date                |\n",
        "| Age            | Age of applicant                                                                      |\n",
        "| Education      | Education of applicant                                                                |\n",
        "| Gender         | The gender of applicant                                                               |\n"
      ]
    },
    {
      "cell_type": "markdown",
      "metadata": {
        "button": false,
        "new_sheet": false,
        "run_control": {
          "read_only": false
        },
        "id": "AitG971cEnrg"
      },
      "source": [
        "Lets download the dataset\n"
      ]
    },
    {
      "cell_type": "code",
      "metadata": {
        "button": false,
        "new_sheet": false,
        "run_control": {
          "read_only": false
        },
        "colab": {
          "base_uri": "https://localhost:8080/"
        },
        "id": "y3R9Yk2AEnrh",
        "outputId": "323252a0-6b65-4e22-c794-9d72c1d607bd"
      },
      "source": [
        "!wget -O loan_train.csv https://cf-courses-data.s3.us.cloud-object-storage.appdomain.cloud/IBMDeveloperSkillsNetwork-ML0101EN-SkillsNetwork/labs/FinalModule_Coursera/data/loan_train.csv"
      ],
      "execution_count": 2,
      "outputs": [
        {
          "output_type": "stream",
          "text": [
            "--2021-01-01 13:24:25--  https://cf-courses-data.s3.us.cloud-object-storage.appdomain.cloud/IBMDeveloperSkillsNetwork-ML0101EN-SkillsNetwork/labs/FinalModule_Coursera/data/loan_train.csv\n",
            "Resolving cf-courses-data.s3.us.cloud-object-storage.appdomain.cloud (cf-courses-data.s3.us.cloud-object-storage.appdomain.cloud)... 198.23.119.245\n",
            "Connecting to cf-courses-data.s3.us.cloud-object-storage.appdomain.cloud (cf-courses-data.s3.us.cloud-object-storage.appdomain.cloud)|198.23.119.245|:443... connected.\n",
            "HTTP request sent, awaiting response... 200 OK\n",
            "Length: 23101 (23K) [text/csv]\n",
            "Saving to: ‘loan_train.csv’\n",
            "\n",
            "loan_train.csv      100%[===================>]  22.56K  --.-KB/s    in 0s      \n",
            "\n",
            "2021-01-01 13:24:25 (234 MB/s) - ‘loan_train.csv’ saved [23101/23101]\n",
            "\n"
          ],
          "name": "stdout"
        }
      ]
    },
    {
      "cell_type": "markdown",
      "metadata": {
        "button": false,
        "new_sheet": false,
        "run_control": {
          "read_only": false
        },
        "id": "IHx7mz6pEnrk"
      },
      "source": [
        "### Load Data From CSV File\n"
      ]
    },
    {
      "cell_type": "code",
      "metadata": {
        "button": false,
        "new_sheet": false,
        "run_control": {
          "read_only": false
        },
        "colab": {
          "base_uri": "https://localhost:8080/",
          "height": 204
        },
        "id": "NvcBZX9UEnrm",
        "outputId": "7adf3b2b-b7b2-4fb5-9413-b111f0fed5be"
      },
      "source": [
        "df = pd.read_csv('loan_train.csv')\n",
        "df.head()"
      ],
      "execution_count": 3,
      "outputs": [
        {
          "output_type": "execute_result",
          "data": {
            "text/html": [
              "<div>\n",
              "<style scoped>\n",
              "    .dataframe tbody tr th:only-of-type {\n",
              "        vertical-align: middle;\n",
              "    }\n",
              "\n",
              "    .dataframe tbody tr th {\n",
              "        vertical-align: top;\n",
              "    }\n",
              "\n",
              "    .dataframe thead th {\n",
              "        text-align: right;\n",
              "    }\n",
              "</style>\n",
              "<table border=\"1\" class=\"dataframe\">\n",
              "  <thead>\n",
              "    <tr style=\"text-align: right;\">\n",
              "      <th></th>\n",
              "      <th>Unnamed: 0</th>\n",
              "      <th>Unnamed: 0.1</th>\n",
              "      <th>loan_status</th>\n",
              "      <th>Principal</th>\n",
              "      <th>terms</th>\n",
              "      <th>effective_date</th>\n",
              "      <th>due_date</th>\n",
              "      <th>age</th>\n",
              "      <th>education</th>\n",
              "      <th>Gender</th>\n",
              "    </tr>\n",
              "  </thead>\n",
              "  <tbody>\n",
              "    <tr>\n",
              "      <th>0</th>\n",
              "      <td>0</td>\n",
              "      <td>0</td>\n",
              "      <td>PAIDOFF</td>\n",
              "      <td>1000</td>\n",
              "      <td>30</td>\n",
              "      <td>9/8/2016</td>\n",
              "      <td>10/7/2016</td>\n",
              "      <td>45</td>\n",
              "      <td>High School or Below</td>\n",
              "      <td>male</td>\n",
              "    </tr>\n",
              "    <tr>\n",
              "      <th>1</th>\n",
              "      <td>2</td>\n",
              "      <td>2</td>\n",
              "      <td>PAIDOFF</td>\n",
              "      <td>1000</td>\n",
              "      <td>30</td>\n",
              "      <td>9/8/2016</td>\n",
              "      <td>10/7/2016</td>\n",
              "      <td>33</td>\n",
              "      <td>Bechalor</td>\n",
              "      <td>female</td>\n",
              "    </tr>\n",
              "    <tr>\n",
              "      <th>2</th>\n",
              "      <td>3</td>\n",
              "      <td>3</td>\n",
              "      <td>PAIDOFF</td>\n",
              "      <td>1000</td>\n",
              "      <td>15</td>\n",
              "      <td>9/8/2016</td>\n",
              "      <td>9/22/2016</td>\n",
              "      <td>27</td>\n",
              "      <td>college</td>\n",
              "      <td>male</td>\n",
              "    </tr>\n",
              "    <tr>\n",
              "      <th>3</th>\n",
              "      <td>4</td>\n",
              "      <td>4</td>\n",
              "      <td>PAIDOFF</td>\n",
              "      <td>1000</td>\n",
              "      <td>30</td>\n",
              "      <td>9/9/2016</td>\n",
              "      <td>10/8/2016</td>\n",
              "      <td>28</td>\n",
              "      <td>college</td>\n",
              "      <td>female</td>\n",
              "    </tr>\n",
              "    <tr>\n",
              "      <th>4</th>\n",
              "      <td>6</td>\n",
              "      <td>6</td>\n",
              "      <td>PAIDOFF</td>\n",
              "      <td>1000</td>\n",
              "      <td>30</td>\n",
              "      <td>9/9/2016</td>\n",
              "      <td>10/8/2016</td>\n",
              "      <td>29</td>\n",
              "      <td>college</td>\n",
              "      <td>male</td>\n",
              "    </tr>\n",
              "  </tbody>\n",
              "</table>\n",
              "</div>"
            ],
            "text/plain": [
              "   Unnamed: 0  Unnamed: 0.1 loan_status  ...  age             education  Gender\n",
              "0           0             0     PAIDOFF  ...   45  High School or Below    male\n",
              "1           2             2     PAIDOFF  ...   33              Bechalor  female\n",
              "2           3             3     PAIDOFF  ...   27               college    male\n",
              "3           4             4     PAIDOFF  ...   28               college  female\n",
              "4           6             6     PAIDOFF  ...   29               college    male\n",
              "\n",
              "[5 rows x 10 columns]"
            ]
          },
          "metadata": {
            "tags": []
          },
          "execution_count": 3
        }
      ]
    },
    {
      "cell_type": "code",
      "metadata": {
        "colab": {
          "base_uri": "https://localhost:8080/"
        },
        "id": "DQr7Hh1UEnrn",
        "outputId": "959898e4-686c-4611-9c11-e35009541a9d"
      },
      "source": [
        "df.shape"
      ],
      "execution_count": 4,
      "outputs": [
        {
          "output_type": "execute_result",
          "data": {
            "text/plain": [
              "(346, 10)"
            ]
          },
          "metadata": {
            "tags": []
          },
          "execution_count": 4
        }
      ]
    },
    {
      "cell_type": "markdown",
      "metadata": {
        "button": false,
        "new_sheet": false,
        "run_control": {
          "read_only": false
        },
        "id": "eClGNdz1Enro"
      },
      "source": [
        "### Convert to date time object\n"
      ]
    },
    {
      "cell_type": "code",
      "metadata": {
        "button": false,
        "new_sheet": false,
        "run_control": {
          "read_only": false
        },
        "id": "r2Iz-ydmEnrp"
      },
      "source": [
        "def preprocess(df):\n",
        "    df['due_date'] = pd.to_datetime(df['due_date'])\n",
        "    df['effective_date'] = pd.to_datetime(df['effective_date'])\n",
        "    df['dayofweek'] = df['effective_date'].dt.dayofweek\n",
        "    df['weekend'] = df['dayofweek'].apply(lambda x: 1 if (x>3)  else 0)\n",
        "    df['Gender'].replace(to_replace=['male','female'], value=[0,1],inplace=True)\n",
        "    df['loan_status'].replace(to_replace=['PAIDOFF','COLLECTION'], value=[0,1],inplace=True)\n",
        "    x=df[['Principal','terms','age','Gender','weekend']]\n",
        "    x=pd.concat([x,pd.get_dummies(df['education'])],axis=1)\n",
        "    x.drop(['Master or Above'], axis = 1,inplace=True)\n",
        "#     x= preprocessing.StandardScaler().fit(x).transform(x)\n",
        "    y= df['loan_status'].values\n",
        "    return (x,y)\n",
        "    \n",
        "x,y=preprocess(df)"
      ],
      "execution_count": 5,
      "outputs": []
    },
    {
      "cell_type": "code",
      "metadata": {
        "colab": {
          "base_uri": "https://localhost:8080/",
          "height": 204
        },
        "id": "8izQ3oS7Enrp",
        "outputId": "33b05f26-d770-48eb-bb02-910a142d8bce"
      },
      "source": [
        "x.head()"
      ],
      "execution_count": 6,
      "outputs": [
        {
          "output_type": "execute_result",
          "data": {
            "text/html": [
              "<div>\n",
              "<style scoped>\n",
              "    .dataframe tbody tr th:only-of-type {\n",
              "        vertical-align: middle;\n",
              "    }\n",
              "\n",
              "    .dataframe tbody tr th {\n",
              "        vertical-align: top;\n",
              "    }\n",
              "\n",
              "    .dataframe thead th {\n",
              "        text-align: right;\n",
              "    }\n",
              "</style>\n",
              "<table border=\"1\" class=\"dataframe\">\n",
              "  <thead>\n",
              "    <tr style=\"text-align: right;\">\n",
              "      <th></th>\n",
              "      <th>Principal</th>\n",
              "      <th>terms</th>\n",
              "      <th>age</th>\n",
              "      <th>Gender</th>\n",
              "      <th>weekend</th>\n",
              "      <th>Bechalor</th>\n",
              "      <th>High School or Below</th>\n",
              "      <th>college</th>\n",
              "    </tr>\n",
              "  </thead>\n",
              "  <tbody>\n",
              "    <tr>\n",
              "      <th>0</th>\n",
              "      <td>1000</td>\n",
              "      <td>30</td>\n",
              "      <td>45</td>\n",
              "      <td>0</td>\n",
              "      <td>0</td>\n",
              "      <td>0</td>\n",
              "      <td>1</td>\n",
              "      <td>0</td>\n",
              "    </tr>\n",
              "    <tr>\n",
              "      <th>1</th>\n",
              "      <td>1000</td>\n",
              "      <td>30</td>\n",
              "      <td>33</td>\n",
              "      <td>1</td>\n",
              "      <td>0</td>\n",
              "      <td>1</td>\n",
              "      <td>0</td>\n",
              "      <td>0</td>\n",
              "    </tr>\n",
              "    <tr>\n",
              "      <th>2</th>\n",
              "      <td>1000</td>\n",
              "      <td>15</td>\n",
              "      <td>27</td>\n",
              "      <td>0</td>\n",
              "      <td>0</td>\n",
              "      <td>0</td>\n",
              "      <td>0</td>\n",
              "      <td>1</td>\n",
              "    </tr>\n",
              "    <tr>\n",
              "      <th>3</th>\n",
              "      <td>1000</td>\n",
              "      <td>30</td>\n",
              "      <td>28</td>\n",
              "      <td>1</td>\n",
              "      <td>1</td>\n",
              "      <td>0</td>\n",
              "      <td>0</td>\n",
              "      <td>1</td>\n",
              "    </tr>\n",
              "    <tr>\n",
              "      <th>4</th>\n",
              "      <td>1000</td>\n",
              "      <td>30</td>\n",
              "      <td>29</td>\n",
              "      <td>0</td>\n",
              "      <td>1</td>\n",
              "      <td>0</td>\n",
              "      <td>0</td>\n",
              "      <td>1</td>\n",
              "    </tr>\n",
              "  </tbody>\n",
              "</table>\n",
              "</div>"
            ],
            "text/plain": [
              "   Principal  terms  age  ...  Bechalor  High School or Below  college\n",
              "0       1000     30   45  ...         0                     1        0\n",
              "1       1000     30   33  ...         1                     0        0\n",
              "2       1000     15   27  ...         0                     0        1\n",
              "3       1000     30   28  ...         0                     0        1\n",
              "4       1000     30   29  ...         0                     0        1\n",
              "\n",
              "[5 rows x 8 columns]"
            ]
          },
          "metadata": {
            "tags": []
          },
          "execution_count": 6
        }
      ]
    },
    {
      "cell_type": "markdown",
      "metadata": {
        "button": false,
        "new_sheet": false,
        "run_control": {
          "read_only": false
        },
        "id": "Pf3p0uxkEnrq"
      },
      "source": [
        "# Data visualization and pre-processing\n"
      ]
    },
    {
      "cell_type": "markdown",
      "metadata": {
        "button": false,
        "new_sheet": false,
        "run_control": {
          "read_only": false
        },
        "id": "eua8kElxEnrr"
      },
      "source": [
        "Let’s see how many of each class is in our data set \n"
      ]
    },
    {
      "cell_type": "code",
      "metadata": {
        "button": false,
        "new_sheet": false,
        "run_control": {
          "read_only": false
        },
        "colab": {
          "base_uri": "https://localhost:8080/"
        },
        "id": "jnSba1raEnrs",
        "outputId": "9dabea66-8964-470f-a524-43feaca15d90"
      },
      "source": [
        "df['loan_status'].value_counts()"
      ],
      "execution_count": 7,
      "outputs": [
        {
          "output_type": "execute_result",
          "data": {
            "text/plain": [
              "0    260\n",
              "1     86\n",
              "Name: loan_status, dtype: int64"
            ]
          },
          "metadata": {
            "tags": []
          },
          "execution_count": 7
        }
      ]
    },
    {
      "cell_type": "markdown",
      "metadata": {
        "button": false,
        "new_sheet": false,
        "run_control": {
          "read_only": false
        },
        "id": "aOoGNP5qEnrt"
      },
      "source": [
        "260 people have paid off the loan on time while 86 have gone into collection \n"
      ]
    },
    {
      "cell_type": "markdown",
      "metadata": {
        "id": "wcTVEn5vEnru"
      },
      "source": [
        "Lets plot some columns to underestand data better:\n"
      ]
    },
    {
      "cell_type": "code",
      "metadata": {
        "colab": {
          "base_uri": "https://localhost:8080/",
          "height": 225
        },
        "id": "hLfPbthVEnru",
        "outputId": "069cba08-2e30-4bd8-9db3-1a05a70b3514"
      },
      "source": [
        "import seaborn as sns\n",
        "\n",
        "bins = np.linspace(df.Principal.min(), df.Principal.max(), 10)\n",
        "g = sns.FacetGrid(df, col=\"Gender\", hue=\"loan_status\", palette=\"Set1\", col_wrap=2)\n",
        "g.map(plt.hist, 'Principal', bins=bins, ec=\"k\")\n",
        "\n",
        "g.axes[-1].legend()\n",
        "plt.show()"
      ],
      "execution_count": 8,
      "outputs": [
        {
          "output_type": "display_data",
          "data": {
            "image/png": "[encoded data removed]",
            "text/plain": [
              "<Figure size 432x216 with 2 Axes>"
            ]
          },
          "metadata": {
            "tags": [],
            "needs_background": "light"
          }
        }
      ]
    },
    {
      "cell_type": "code",
      "metadata": {
        "button": false,
        "new_sheet": false,
        "run_control": {
          "read_only": false
        },
        "colab": {
          "base_uri": "https://localhost:8080/",
          "height": 225
        },
        "id": "fpEs1uXsEnrv",
        "outputId": "425fcdd8-f469-461e-cb10-e8c36eb9d5a6"
      },
      "source": [
        "bins = np.linspace(df.age.min(), df.age.max(), 10)\n",
        "g = sns.FacetGrid(df, col=\"Gender\", hue=\"loan_status\", palette=\"Set1\", col_wrap=2)\n",
        "g.map(plt.hist, 'age', bins=bins, ec=\"k\")\n",
        "\n",
        "g.axes[-1].legend()\n",
        "plt.show()"
      ],
      "execution_count": 9,
      "outputs": [
        {
          "output_type": "display_data",
          "data": {
            "image/png": "[encoded data removed]",
            "text/plain": [
              "<Figure size 432x216 with 2 Axes>"
            ]
          },
          "metadata": {
            "tags": [],
            "needs_background": "light"
          }
        }
      ]
    },
    {
      "cell_type": "markdown",
      "metadata": {
        "button": false,
        "new_sheet": false,
        "run_control": {
          "read_only": false
        },
        "id": "J9P9eXUZEnr0"
      },
      "source": [
        "# Pre-processing:  Feature selection/extraction\n"
      ]
    },
    {
      "cell_type": "markdown",
      "metadata": {
        "button": false,
        "new_sheet": false,
        "run_control": {
          "read_only": false
        },
        "id": "nOglw_3yEnr0"
      },
      "source": [
        "### Lets look at the day of the week people get the loan\n"
      ]
    },
    {
      "cell_type": "code",
      "metadata": {
        "button": false,
        "new_sheet": false,
        "run_control": {
          "read_only": false
        },
        "colab": {
          "base_uri": "https://localhost:8080/",
          "height": 225
        },
        "id": "UwSJ8_r3Enr1",
        "outputId": "fde2545c-25ef-4d47-c857-5489dbb8bb59"
      },
      "source": [
        "bins = np.linspace(df.dayofweek.min(), df.dayofweek.max(), 10)\n",
        "g = sns.FacetGrid(df, col=\"Gender\", hue=\"loan_status\", palette=\"Set1\", col_wrap=2)\n",
        "g.map(plt.hist, 'dayofweek', bins=bins, ec=\"k\")\n",
        "g.axes[-1].legend()\n",
        "plt.show()\n"
      ],
      "execution_count": 10,
      "outputs": [
        {
          "output_type": "display_data",
          "data": {
            "image/png": "[encoded data removed]",
            "text/plain": [
              "<Figure size 432x216 with 2 Axes>"
            ]
          },
          "metadata": {
            "tags": [],
            "needs_background": "light"
          }
        }
      ]
    },
    {
      "cell_type": "markdown",
      "metadata": {
        "button": false,
        "new_sheet": false,
        "run_control": {
          "read_only": false
        },
        "id": "SdE3dxw5Enr2"
      },
      "source": [
        "We see that people who get the loan at the end of the week dont pay it off, so lets use Feature binarization to set a threshold values less then day 4 \n"
      ]
    },
    {
      "cell_type": "markdown",
      "metadata": {
        "button": false,
        "new_sheet": false,
        "run_control": {
          "read_only": false
        },
        "id": "-BMRjU9rEnr2"
      },
      "source": [
        "## Convert Categorical features to numerical values\n"
      ]
    },
    {
      "cell_type": "markdown",
      "metadata": {
        "button": false,
        "new_sheet": false,
        "run_control": {
          "read_only": false
        },
        "id": "GNntMajdEnr3"
      },
      "source": [
        "Lets look at gender:\n"
      ]
    },
    {
      "cell_type": "code",
      "metadata": {
        "button": false,
        "new_sheet": false,
        "run_control": {
          "read_only": false
        },
        "colab": {
          "base_uri": "https://localhost:8080/"
        },
        "id": "kIdLZUVLEnr3",
        "outputId": "15d6a62d-6baf-4023-ae87-0f911c77112a"
      },
      "source": [
        "df.groupby(['Gender'])['loan_status'].value_counts(normalize=True)"
      ],
      "execution_count": 11,
      "outputs": [
        {
          "output_type": "execute_result",
          "data": {
            "text/plain": [
              "Gender  loan_status\n",
              "0       0              0.731293\n",
              "        1              0.268707\n",
              "1       0              0.865385\n",
              "        1              0.134615\n",
              "Name: loan_status, dtype: float64"
            ]
          },
          "metadata": {
            "tags": []
          },
          "execution_count": 11
        }
      ]
    },
    {
      "cell_type": "markdown",
      "metadata": {
        "button": false,
        "new_sheet": false,
        "run_control": {
          "read_only": false
        },
        "id": "_g10XMrqEnr4"
      },
      "source": [
        "86 % of female pay there loans while only 73 % of males pay there loan\n"
      ]
    },
    {
      "cell_type": "markdown",
      "metadata": {
        "button": false,
        "new_sheet": false,
        "run_control": {
          "read_only": false
        },
        "id": "t9oX88sKEnr4"
      },
      "source": [
        "## One Hot Encoding\n",
        "\n",
        "#### How about education?\n"
      ]
    },
    {
      "cell_type": "code",
      "metadata": {
        "button": false,
        "new_sheet": false,
        "run_control": {
          "read_only": false
        },
        "colab": {
          "base_uri": "https://localhost:8080/"
        },
        "id": "RNjMFY7eEnr5",
        "outputId": "7338e841-35f2-4eb8-ec3d-6fa109b50c03"
      },
      "source": [
        "df.groupby(['education'])['loan_status'].value_counts(normalize=True)"
      ],
      "execution_count": 12,
      "outputs": [
        {
          "output_type": "execute_result",
          "data": {
            "text/plain": [
              "education             loan_status\n",
              "Bechalor              0              0.750000\n",
              "                      1              0.250000\n",
              "High School or Below  0              0.741722\n",
              "                      1              0.258278\n",
              "Master or Above       0              0.500000\n",
              "                      1              0.500000\n",
              "college               0              0.765101\n",
              "                      1              0.234899\n",
              "Name: loan_status, dtype: float64"
            ]
          },
          "metadata": {
            "tags": []
          },
          "execution_count": 12
        }
      ]
    },
    {
      "cell_type": "markdown",
      "metadata": {
        "button": false,
        "new_sheet": false,
        "run_control": {
          "read_only": false
        },
        "id": "TBkY814REnr6"
      },
      "source": [
        "#### Feature befor One Hot Encoding\n"
      ]
    },
    {
      "cell_type": "code",
      "metadata": {
        "button": false,
        "new_sheet": false,
        "run_control": {
          "read_only": false
        },
        "colab": {
          "base_uri": "https://localhost:8080/",
          "height": 204
        },
        "id": "SU4x3vx9Enr7",
        "outputId": "a9fb7b06-c12d-41c0-be15-de0d26bffa33"
      },
      "source": [
        "df[['Principal','terms','age','Gender','education']].head()"
      ],
      "execution_count": 13,
      "outputs": [
        {
          "output_type": "execute_result",
          "data": {
            "text/html": [
              "<div>\n",
              "<style scoped>\n",
              "    .dataframe tbody tr th:only-of-type {\n",
              "        vertical-align: middle;\n",
              "    }\n",
              "\n",
              "    .dataframe tbody tr th {\n",
              "        vertical-align: top;\n",
              "    }\n",
              "\n",
              "    .dataframe thead th {\n",
              "        text-align: right;\n",
              "    }\n",
              "</style>\n",
              "<table border=\"1\" class=\"dataframe\">\n",
              "  <thead>\n",
              "    <tr style=\"text-align: right;\">\n",
              "      <th></th>\n",
              "      <th>Principal</th>\n",
              "      <th>terms</th>\n",
              "      <th>age</th>\n",
              "      <th>Gender</th>\n",
              "      <th>education</th>\n",
              "    </tr>\n",
              "  </thead>\n",
              "  <tbody>\n",
              "    <tr>\n",
              "      <th>0</th>\n",
              "      <td>1000</td>\n",
              "      <td>30</td>\n",
              "      <td>45</td>\n",
              "      <td>0</td>\n",
              "      <td>High School or Below</td>\n",
              "    </tr>\n",
              "    <tr>\n",
              "      <th>1</th>\n",
              "      <td>1000</td>\n",
              "      <td>30</td>\n",
              "      <td>33</td>\n",
              "      <td>1</td>\n",
              "      <td>Bechalor</td>\n",
              "    </tr>\n",
              "    <tr>\n",
              "      <th>2</th>\n",
              "      <td>1000</td>\n",
              "      <td>15</td>\n",
              "      <td>27</td>\n",
              "      <td>0</td>\n",
              "      <td>college</td>\n",
              "    </tr>\n",
              "    <tr>\n",
              "      <th>3</th>\n",
              "      <td>1000</td>\n",
              "      <td>30</td>\n",
              "      <td>28</td>\n",
              "      <td>1</td>\n",
              "      <td>college</td>\n",
              "    </tr>\n",
              "    <tr>\n",
              "      <th>4</th>\n",
              "      <td>1000</td>\n",
              "      <td>30</td>\n",
              "      <td>29</td>\n",
              "      <td>0</td>\n",
              "      <td>college</td>\n",
              "    </tr>\n",
              "  </tbody>\n",
              "</table>\n",
              "</div>"
            ],
            "text/plain": [
              "   Principal  terms  age  Gender             education\n",
              "0       1000     30   45       0  High School or Below\n",
              "1       1000     30   33       1              Bechalor\n",
              "2       1000     15   27       0               college\n",
              "3       1000     30   28       1               college\n",
              "4       1000     30   29       0               college"
            ]
          },
          "metadata": {
            "tags": []
          },
          "execution_count": 13
        }
      ]
    },
    {
      "cell_type": "markdown",
      "metadata": {
        "button": false,
        "new_sheet": false,
        "run_control": {
          "read_only": false
        },
        "id": "NwYG6BJwEnr9"
      },
      "source": [
        "## Normalize Data\n"
      ]
    },
    {
      "cell_type": "markdown",
      "metadata": {
        "button": false,
        "new_sheet": false,
        "run_control": {
          "read_only": false
        },
        "id": "M6mytRmOEnr9"
      },
      "source": [
        "Data Standardization give data zero mean and unit variance (technically should be done after train test split )\n"
      ]
    },
    {
      "cell_type": "code",
      "metadata": {
        "button": false,
        "new_sheet": false,
        "run_control": {
          "read_only": false
        },
        "colab": {
          "base_uri": "https://localhost:8080/"
        },
        "id": "_sFwfb6nEnr-",
        "outputId": "49e16c3c-f0ce-4aea-cd74-6f96b4805e12"
      },
      "source": [
        "x= preprocessing.StandardScaler().fit(x).transform(x)\n",
        "print(x)\n",
        "print(y)"
      ],
      "execution_count": 14,
      "outputs": [
        {
          "output_type": "stream",
          "text": [
            "[[ 0.51578458  0.92071769  2.33152555 ... -0.38170062  1.13639374\n",
            "  -0.86968108]\n",
            " [ 0.51578458  0.92071769  0.34170148 ...  2.61985426 -0.87997669\n",
            "  -0.86968108]\n",
            " [ 0.51578458 -0.95911111 -0.65321055 ... -0.38170062 -0.87997669\n",
            "   1.14984679]\n",
            " ...\n",
            " [-1.31458942 -0.95911111  1.33661351 ... -0.38170062 -0.87997669\n",
            "   1.14984679]\n",
            " [ 0.51578458  0.92071769 -0.48739188 ... -0.38170062 -0.87997669\n",
            "   1.14984679]\n",
            " [ 0.51578458  0.92071769 -0.81902922 ... -0.38170062 -0.87997669\n",
            "   1.14984679]]\n",
            "[0 0 0 0 0 0 0 0 0 0 0 0 0 0 0 0 0 0 0 0 0 0 0 0 0 0 0 0 0 0 0 0 0 0 0 0 0\n",
            " 0 0 0 0 0 0 0 0 0 0 0 0 0 0 0 0 0 0 0 0 0 0 0 0 0 0 0 0 0 0 0 0 0 0 0 0 0\n",
            " 0 0 0 0 0 0 0 0 0 0 0 0 0 0 0 0 0 0 0 0 0 0 0 0 0 0 0 0 0 0 0 0 0 0 0 0 0\n",
            " 0 0 0 0 0 0 0 0 0 0 0 0 0 0 0 0 0 0 0 0 0 0 0 0 0 0 0 0 0 0 0 0 0 0 0 0 0\n",
            " 0 0 0 0 0 0 0 0 0 0 0 0 0 0 0 0 0 0 0 0 0 0 0 0 0 0 0 0 0 0 0 0 0 0 0 0 0\n",
            " 0 0 0 0 0 0 0 0 0 0 0 0 0 0 0 0 0 0 0 0 0 0 0 0 0 0 0 0 0 0 0 0 0 0 0 0 0\n",
            " 0 0 0 0 0 0 0 0 0 0 0 0 0 0 0 0 0 0 0 0 0 0 0 0 0 0 0 0 0 0 0 0 0 0 0 0 0\n",
            " 0 1 1 1 1 1 1 1 1 1 1 1 1 1 1 1 1 1 1 1 1 1 1 1 1 1 1 1 1 1 1 1 1 1 1 1 1\n",
            " 1 1 1 1 1 1 1 1 1 1 1 1 1 1 1 1 1 1 1 1 1 1 1 1 1 1 1 1 1 1 1 1 1 1 1 1 1\n",
            " 1 1 1 1 1 1 1 1 1 1 1 1 1]\n"
          ],
          "name": "stdout"
        }
      ]
    },
    {
      "cell_type": "markdown",
      "metadata": {
        "button": false,
        "new_sheet": false,
        "run_control": {
          "read_only": false
        },
        "id": "s0PN_IyhEnr-"
      },
      "source": [
        "# Classification\n"
      ]
    },
    {
      "cell_type": "markdown",
      "metadata": {
        "button": false,
        "new_sheet": false,
        "run_control": {
          "read_only": false
        },
        "id": "eKMTEm_qEnr_"
      },
      "source": [
        "Now, it is your turn, use the training set to build an accurate model. Then use the test set to report the accuracy of the model\n",
        "You should use the following algorithm:\n",
        "\n",
        "-   K Nearest Neighbor(KNN)\n",
        "-   Decision Tree\n",
        "-   Support Vector Machine\n",
        "-   Logistic Regression\n",
        "\n",
        "** Notice:** \n",
        "\n",
        "-   You can go above and change the pre-processing, feature selection, feature-extraction, and so on, to make a better model.\n",
        "-   You should use either scikit-learn, Scipy or Numpy libraries for developing the classification algorithms.\n",
        "-   You should include the code of the algorithm in the following cells.\n"
      ]
    },
    {
      "cell_type": "markdown",
      "metadata": {
        "id": "c2PHmqDdEnsA"
      },
      "source": [
        "# K Nearest Neighbor(KNN)\n",
        "\n",
        "Notice: You should find the best k to build the model with the best accuracy.  \n",
        "**warning:** You should not use the **loan_test.csv** for finding the best k, however, you can split your train_loan.csv into train and test to find the best **k**.\n"
      ]
    },
    {
      "cell_type": "code",
      "metadata": {
        "colab": {
          "base_uri": "https://localhost:8080/"
        },
        "id": "xXMVeRPtEnsB",
        "outputId": "9b178525-3f51-41f7-af36-b23c5be22fc8"
      },
      "source": [
        "from sklearn.model_selection import train_test_split\n",
        "x_train,x_test,y_train,y_test=train_test_split(x,y,test_size=0.2,random_state=2)\n",
        "\n",
        "print('Train set:',x_train.shape,y_train.shape)\n",
        "print('Test set:',x_test.shape,y_test.shape)\n",
        "print(y_train)\n",
        "print(y_test)"
      ],
      "execution_count": 15,
      "outputs": [
        {
          "output_type": "stream",
          "text": [
            "Train set: (276, 8) (276,)\n",
            "Test set: (70, 8) (70,)\n",
            "[0 0 0 1 0 0 1 1 1 1 0 0 0 0 1 0 0 0 0 1 0 0 0 1 1 0 0 0 0 0 1 0 1 0 0 1 1\n",
            " 0 0 0 0 0 0 0 0 0 1 0 1 0 0 0 1 0 1 0 0 0 0 0 0 0 0 1 0 0 1 0 0 0 1 1 0 1\n",
            " 0 1 0 0 1 0 0 1 0 0 0 0 0 0 0 0 0 0 0 0 0 0 0 0 0 0 1 1 0 1 0 0 0 1 1 0 0\n",
            " 0 0 1 0 1 0 1 1 0 0 0 1 0 0 0 0 0 0 0 1 0 0 1 0 0 0 0 0 1 1 0 0 1 1 0 1 0\n",
            " 0 0 1 0 1 1 0 0 1 1 0 0 1 1 0 0 0 1 0 1 1 0 1 0 0 1 0 0 1 0 1 0 0 0 0 0 1\n",
            " 0 0 0 1 0 0 0 0 0 1 0 0 0 0 0 1 0 0 0 0 1 0 0 0 0 0 1 0 0 0 0 0 0 0 0 0 0\n",
            " 1 0 0 0 0 0 0 0 0 0 1 0 1 0 0 1 0 0 0 0 0 0 0 0 1 0 0 0 0 0 0 0 1 0 0 0 1\n",
            " 0 0 0 1 1 0 0 1 0 0 1 0 1 0 0 0 0]\n",
            "[0 1 0 0 0 0 0 1 0 0 1 0 0 0 0 0 0 0 0 1 0 0 1 0 0 0 0 0 0 0 0 1 0 1 0 0 0\n",
            " 0 0 1 0 0 0 0 0 1 0 0 0 1 0 0 0 0 0 0 0 0 1 0 0 0 0 0 1 0 0 0 0 0]\n"
          ],
          "name": "stdout"
        }
      ]
    },
    {
      "cell_type": "code",
      "metadata": {
        "colab": {
          "base_uri": "https://localhost:8080/"
        },
        "id": "rCTRxH7UEnsE",
        "outputId": "f0af47d7-10d1-4432-f507-c39ab9e42358"
      },
      "source": [
        "from sklearn.neighbors import KNeighborsClassifier\n",
        "from sklearn.metrics import jaccard_score\n",
        "from sklearn.metrics import f1_score\n",
        "from sklearn import metrics\n",
        "\n",
        "ks=10\n",
        "jac_sc=np.zeros((ks-1))\n",
        "f1_sc=np.zeros((ks-1))\n",
        "mean_acc=np.zeros((ks-1))\n",
        "\n",
        "for k in range(1,ks):\n",
        "    neigh=KNeighborsClassifier(n_neighbors=k).fit(x_train,y_train)\n",
        "    yhat=neigh.predict(x_test)\n",
        "    jac_sc[k-1]=jaccard_score(y_test,yhat,labels=None,average='weighted',sample_weight=None)\n",
        "    f1_sc[k-1]=f1_score(y_test,yhat,average='micro')\n",
        "    mean_acc[k-1]=metrics.accuracy_score(y_test,yhat)\n",
        "    \n",
        "    \n",
        "print('jaccard score',jac_sc)\n",
        "print('f1 score',f1_sc)\n",
        "print('mean accuracy', mean_acc)"
      ],
      "execution_count": 16,
      "outputs": [
        {
          "output_type": "stream",
          "text": [
            "jaccard score [0.5349578  0.62144492 0.60045837 0.66596639 0.64780458 0.71445629\n",
            " 0.63947368 0.66596639 0.59029851]\n",
            "f1 score [0.64285714 0.74285714 0.71428571 0.78571429 0.75714286 0.82857143\n",
            " 0.75714286 0.78571429 0.7       ]\n",
            "mean accuracy [0.64285714 0.74285714 0.71428571 0.78571429 0.75714286 0.82857143\n",
            " 0.75714286 0.78571429 0.7       ]\n"
          ],
          "name": "stdout"
        }
      ]
    },
    {
      "cell_type": "code",
      "metadata": {
        "colab": {
          "base_uri": "https://localhost:8080/"
        },
        "id": "ohEeoGEtEnsF",
        "outputId": "374c05fb-d7b1-4d5a-f180-c30c06584d78"
      },
      "source": [
        "print(\"KNN\")\n",
        "print( \"The best jaccard score was with\", jac_sc.max(), \"with k=\", jac_sc.argmax()+1)\n",
        "print( \"The best f1 score was with\", f1_sc.max(), \"with k=\", f1_sc.argmax()+1)\n",
        "print( \"The best accuracy was with\", mean_acc.max(), \"with k=\", mean_acc.argmax()+1)"
      ],
      "execution_count": 17,
      "outputs": [
        {
          "output_type": "stream",
          "text": [
            "KNN\n",
            "The best jaccard score was with 0.714456289978678 with k= 6\n",
            "The best f1 score was with 0.8285714285714286 with k= 6\n",
            "The best accuracy was with 0.8285714285714286 with k= 6\n"
          ],
          "name": "stdout"
        }
      ]
    },
    {
      "cell_type": "code",
      "metadata": {
        "colab": {
          "base_uri": "https://localhost:8080/"
        },
        "id": "OU2dZB6nEnsG",
        "outputId": "58d6db83-3c16-4bf5-c560-4cca204d3a9d"
      },
      "source": [
        "# Finally we model our knn with k=6 for whole train set\n",
        "neigh=KNeighborsClassifier(n_neighbors=6).fit(x,y)\n",
        "neigh"
      ],
      "execution_count": 18,
      "outputs": [
        {
          "output_type": "execute_result",
          "data": {
            "text/plain": [
              "KNeighborsClassifier(algorithm='auto', leaf_size=30, metric='minkowski',\n",
              "                     metric_params=None, n_jobs=None, n_neighbors=6, p=2,\n",
              "                     weights='uniform')"
            ]
          },
          "metadata": {
            "tags": []
          },
          "execution_count": 18
        }
      ]
    },
    {
      "cell_type": "markdown",
      "metadata": {
        "id": "sLyBfYvTEnsG"
      },
      "source": [
        "# Decision Tree\n"
      ]
    },
    {
      "cell_type": "code",
      "metadata": {
        "colab": {
          "base_uri": "https://localhost:8080/"
        },
        "id": "Wx_Yj15qEnsH",
        "outputId": "648006cc-5ded-4566-ff72-a19aef04b842"
      },
      "source": [
        "from sklearn.tree import DecisionTreeClassifier\n",
        "\n",
        "loanlyTree=DecisionTreeClassifier(criterion=\"entropy\",max_depth=8)\n",
        "loanlyTree.fit(x_train,y_train)\n",
        "loanlyTree"
      ],
      "execution_count": 19,
      "outputs": [
        {
          "output_type": "execute_result",
          "data": {
            "text/plain": [
              "DecisionTreeClassifier(ccp_alpha=0.0, class_weight=None, criterion='entropy',\n",
              "                       max_depth=8, max_features=None, max_leaf_nodes=None,\n",
              "                       min_impurity_decrease=0.0, min_impurity_split=None,\n",
              "                       min_samples_leaf=1, min_samples_split=2,\n",
              "                       min_weight_fraction_leaf=0.0, presort='deprecated',\n",
              "                       random_state=None, splitter='best')"
            ]
          },
          "metadata": {
            "tags": []
          },
          "execution_count": 19
        }
      ]
    },
    {
      "cell_type": "code",
      "metadata": {
        "colab": {
          "base_uri": "https://localhost:8080/"
        },
        "id": "qBTMsSaUEnsH",
        "outputId": "ce3577bb-10b5-45c6-cb1e-addf003889f1"
      },
      "source": [
        "yhat=loanlyTree.predict(x_test)\n",
        "jac_sc=jaccard_score(y_test,yhat,labels=None,average='weighted',sample_weight=None)\n",
        "f1_sc=f1_score(y_test,yhat,average='micro')\n",
        "mean_acc=metrics.accuracy_score(y_test,yhat)\n",
        "\n",
        "print(\"DECISION TREE\")\n",
        "print( \"The jaccard score was with\", jac_sc)\n",
        "print( \"The f1 score was with\", f1_sc)\n",
        "print( \"The accuracy was with\", mean_acc)"
      ],
      "execution_count": 20,
      "outputs": [
        {
          "output_type": "stream",
          "text": [
            "DECISION TREE\n",
            "The jaccard score was with 0.6155102040816327\n",
            "The f1 score was with 0.7428571428571429\n",
            "The accuracy was with 0.7428571428571429\n"
          ],
          "name": "stdout"
        }
      ]
    },
    {
      "cell_type": "code",
      "metadata": {
        "colab": {
          "base_uri": "https://localhost:8080/"
        },
        "id": "ScPV4mRuEnsO",
        "outputId": "852f7834-f6ee-4fa0-82c4-ffd6b3b97cbb"
      },
      "source": [
        "loanlyTree.fit(x,y)\n",
        "loanlyTree"
      ],
      "execution_count": 21,
      "outputs": [
        {
          "output_type": "execute_result",
          "data": {
            "text/plain": [
              "DecisionTreeClassifier(ccp_alpha=0.0, class_weight=None, criterion='entropy',\n",
              "                       max_depth=8, max_features=None, max_leaf_nodes=None,\n",
              "                       min_impurity_decrease=0.0, min_impurity_split=None,\n",
              "                       min_samples_leaf=1, min_samples_split=2,\n",
              "                       min_weight_fraction_leaf=0.0, presort='deprecated',\n",
              "                       random_state=None, splitter='best')"
            ]
          },
          "metadata": {
            "tags": []
          },
          "execution_count": 21
        }
      ]
    },
    {
      "cell_type": "markdown",
      "metadata": {
        "id": "1OBjnOAeEnsO"
      },
      "source": [
        "# Support Vector Machine\n"
      ]
    },
    {
      "cell_type": "code",
      "metadata": {
        "colab": {
          "base_uri": "https://localhost:8080/"
        },
        "id": "tTnhjkuwEnsP",
        "outputId": "c5bc106f-9452-4b73-e04c-5f226a9adabf"
      },
      "source": [
        "from sklearn import svm\n",
        "clf=svm.SVC(kernel='poly')\n",
        "clf.fit(x_train,y_train)"
      ],
      "execution_count": 22,
      "outputs": [
        {
          "output_type": "execute_result",
          "data": {
            "text/plain": [
              "SVC(C=1.0, break_ties=False, cache_size=200, class_weight=None, coef0=0.0,\n",
              "    decision_function_shape='ovr', degree=3, gamma='scale', kernel='poly',\n",
              "    max_iter=-1, probability=False, random_state=None, shrinking=True,\n",
              "    tol=0.001, verbose=False)"
            ]
          },
          "metadata": {
            "tags": []
          },
          "execution_count": 22
        }
      ]
    },
    {
      "cell_type": "code",
      "metadata": {
        "colab": {
          "base_uri": "https://localhost:8080/"
        },
        "id": "7LmKbJf4EnsP",
        "outputId": "a37c49eb-e7ff-40b0-f103-6d2aae8ba9d9"
      },
      "source": [
        "yhat=clf.predict(x_test)\n",
        "jac_sc=jaccard_score(y_test,yhat,labels=None,average='weighted',sample_weight=None)\n",
        "f1_sc=f1_score(y_test,yhat,average='micro')\n",
        "mean_acc=metrics.accuracy_score(y_test,yhat)\n",
        "\n",
        "print(\"SUPPORT VECTOR MACHINE\")\n",
        "print( \"The jaccard score was with\", jac_sc)\n",
        "print( \"The f1 score was with\", f1_sc)\n",
        "print( \"The accuracy was with\", mean_acc)"
      ],
      "execution_count": 23,
      "outputs": [
        {
          "output_type": "stream",
          "text": [
            "SUPPORT VECTOR MACHINE\n",
            "The jaccard score was with 0.6628571428571429\n",
            "The f1 score was with 0.8000000000000002\n",
            "The accuracy was with 0.8\n"
          ],
          "name": "stdout"
        }
      ]
    },
    {
      "cell_type": "code",
      "metadata": {
        "colab": {
          "base_uri": "https://localhost:8080/"
        },
        "id": "gIvAENdxEnsQ",
        "outputId": "57dec71a-9395-4118-f5d2-4092885fb2cf"
      },
      "source": [
        "clf.fit(x,y)"
      ],
      "execution_count": 24,
      "outputs": [
        {
          "output_type": "execute_result",
          "data": {
            "text/plain": [
              "SVC(C=1.0, break_ties=False, cache_size=200, class_weight=None, coef0=0.0,\n",
              "    decision_function_shape='ovr', degree=3, gamma='scale', kernel='poly',\n",
              "    max_iter=-1, probability=False, random_state=None, shrinking=True,\n",
              "    tol=0.001, verbose=False)"
            ]
          },
          "metadata": {
            "tags": []
          },
          "execution_count": 24
        }
      ]
    },
    {
      "cell_type": "markdown",
      "metadata": {
        "id": "RyP1OlpkEnsR"
      },
      "source": [
        "# Logistic Regression\n"
      ]
    },
    {
      "cell_type": "code",
      "metadata": {
        "colab": {
          "base_uri": "https://localhost:8080/"
        },
        "id": "OzSL6jaUEnsZ",
        "outputId": "3195eb29-6bf2-4259-976c-df1336352356"
      },
      "source": [
        "from sklearn.linear_model import LogisticRegression\n",
        "from sklearn.metrics import log_loss\n",
        "LR=LogisticRegression(C=0.01,solver='newton-cg').fit(x_train,y_train)\n",
        "LR"
      ],
      "execution_count": 25,
      "outputs": [
        {
          "output_type": "execute_result",
          "data": {
            "text/plain": [
              "LogisticRegression(C=0.01, class_weight=None, dual=False, fit_intercept=True,\n",
              "                   intercept_scaling=1, l1_ratio=None, max_iter=100,\n",
              "                   multi_class='auto', n_jobs=None, penalty='l2',\n",
              "                   random_state=None, solver='newton-cg', tol=0.0001, verbose=0,\n",
              "                   warm_start=False)"
            ]
          },
          "metadata": {
            "tags": []
          },
          "execution_count": 25
        }
      ]
    },
    {
      "cell_type": "code",
      "metadata": {
        "colab": {
          "base_uri": "https://localhost:8080/"
        },
        "id": "yYHcgmdoEnsb",
        "outputId": "767d40d6-3b23-4785-8bc2-71eb73726f79"
      },
      "source": [
        "yhat=LR.predict(x_test)\n",
        "jac_sc=jaccard_score(y_test,yhat,labels=None,average='weighted',sample_weight=None)\n",
        "f1_sc=f1_score(y_test,yhat,average='micro')\n",
        "log_los=log_loss(y_test,yhat)\n",
        "mean_acc=metrics.accuracy_score(y_test,yhat)\n",
        "\n",
        "print(\"LOGISTIC REGRESSION\")\n",
        "print( \"The jaccard score was with\", jac_sc)\n",
        "print( \"The f1 score was with\", f1_sc)\n",
        "print( \"The log loss was with\", log_los)\n",
        "print( \"The accuracy was with\", mean_acc)"
      ],
      "execution_count": 26,
      "outputs": [
        {
          "output_type": "stream",
          "text": [
            "LOGISTIC REGRESSION\n",
            "The jaccard score was with 0.686530612244898\n",
            "The f1 score was with 0.8285714285714286\n",
            "The log loss was with 5.920933096270403\n",
            "The accuracy was with 0.8285714285714286\n"
          ],
          "name": "stdout"
        }
      ]
    },
    {
      "cell_type": "code",
      "metadata": {
        "colab": {
          "base_uri": "https://localhost:8080/"
        },
        "id": "C1zFtK9OEnsc",
        "outputId": "d362d1a3-db7f-47ab-b46e-3bfe8e06c019"
      },
      "source": [
        "LR=LogisticRegression(C=0.01,solver='newton-cg').fit(x,y)\n",
        "LR"
      ],
      "execution_count": 27,
      "outputs": [
        {
          "output_type": "execute_result",
          "data": {
            "text/plain": [
              "LogisticRegression(C=0.01, class_weight=None, dual=False, fit_intercept=True,\n",
              "                   intercept_scaling=1, l1_ratio=None, max_iter=100,\n",
              "                   multi_class='auto', n_jobs=None, penalty='l2',\n",
              "                   random_state=None, solver='newton-cg', tol=0.0001, verbose=0,\n",
              "                   warm_start=False)"
            ]
          },
          "metadata": {
            "tags": []
          },
          "execution_count": 27
        }
      ]
    },
    {
      "cell_type": "markdown",
      "metadata": {
        "id": "jYw6xyyVEnsj"
      },
      "source": [
        "# Model Evaluation using Test set\n"
      ]
    },
    {
      "cell_type": "code",
      "metadata": {
        "id": "6s75qQggEnsk"
      },
      "source": [
        "from sklearn.metrics import jaccard_score\n",
        "from sklearn.metrics import f1_score\n",
        "from sklearn.metrics import log_loss\n"
      ],
      "execution_count": 28,
      "outputs": []
    },
    {
      "cell_type": "markdown",
      "metadata": {
        "id": "9c-3QA3CEnsk"
      },
      "source": [
        "First, download and load the test set:\n"
      ]
    },
    {
      "cell_type": "code",
      "metadata": {
        "colab": {
          "base_uri": "https://localhost:8080/"
        },
        "id": "PeRdd3ZiEnsk",
        "outputId": "da7fa3c6-5789-4829-8022-ba16743a505f"
      },
      "source": [
        "!wget -O loan_test.csv https://s3-api.us-geo.objectstorage.softlayer.net/cf-courses-data/CognitiveClass/ML0101ENv3/labs/loan_test.csv"
      ],
      "execution_count": 29,
      "outputs": [
        {
          "output_type": "stream",
          "text": [
            "--2021-01-01 13:24:27--  https://s3-api.us-geo.objectstorage.softlayer.net/cf-courses-data/CognitiveClass/ML0101ENv3/labs/loan_test.csv\n",
            "Resolving s3-api.us-geo.objectstorage.softlayer.net (s3-api.us-geo.objectstorage.softlayer.net)... 67.228.254.196\n",
            "Connecting to s3-api.us-geo.objectstorage.softlayer.net (s3-api.us-geo.objectstorage.softlayer.net)|67.228.254.196|:443... connected.\n",
            "HTTP request sent, awaiting response... 200 OK\n",
            "Length: 3642 (3.6K) [text/csv]\n",
            "Saving to: ‘loan_test.csv’\n",
            "\n",
            "loan_test.csv       100%[===================>]   3.56K  --.-KB/s    in 0s      \n",
            "\n",
            "2021-01-01 13:24:28 (501 MB/s) - ‘loan_test.csv’ saved [3642/3642]\n",
            "\n"
          ],
          "name": "stdout"
        }
      ]
    },
    {
      "cell_type": "markdown",
      "metadata": {
        "button": false,
        "new_sheet": false,
        "run_control": {
          "read_only": false
        },
        "id": "pTtdUfSPEnsl"
      },
      "source": [
        "### Load Test set for evaluation\n"
      ]
    },
    {
      "cell_type": "code",
      "metadata": {
        "button": false,
        "new_sheet": false,
        "run_control": {
          "read_only": false
        },
        "colab": {
          "base_uri": "https://localhost:8080/",
          "height": 204
        },
        "id": "U7ViDttQEnsl",
        "outputId": "f9320d4c-b285-4d5f-8275-7fb693b6d25b"
      },
      "source": [
        "test_df = pd.read_csv('loan_test.csv')\n",
        "test_df.head()"
      ],
      "execution_count": 30,
      "outputs": [
        {
          "output_type": "execute_result",
          "data": {
            "text/html": [
              "<div>\n",
              "<style scoped>\n",
              "    .dataframe tbody tr th:only-of-type {\n",
              "        vertical-align: middle;\n",
              "    }\n",
              "\n",
              "    .dataframe tbody tr th {\n",
              "        vertical-align: top;\n",
              "    }\n",
              "\n",
              "    .dataframe thead th {\n",
              "        text-align: right;\n",
              "    }\n",
              "</style>\n",
              "<table border=\"1\" class=\"dataframe\">\n",
              "  <thead>\n",
              "    <tr style=\"text-align: right;\">\n",
              "      <th></th>\n",
              "      <th>Unnamed: 0</th>\n",
              "      <th>Unnamed: 0.1</th>\n",
              "      <th>loan_status</th>\n",
              "      <th>Principal</th>\n",
              "      <th>terms</th>\n",
              "      <th>effective_date</th>\n",
              "      <th>due_date</th>\n",
              "      <th>age</th>\n",
              "      <th>education</th>\n",
              "      <th>Gender</th>\n",
              "    </tr>\n",
              "  </thead>\n",
              "  <tbody>\n",
              "    <tr>\n",
              "      <th>0</th>\n",
              "      <td>1</td>\n",
              "      <td>1</td>\n",
              "      <td>PAIDOFF</td>\n",
              "      <td>1000</td>\n",
              "      <td>30</td>\n",
              "      <td>9/8/2016</td>\n",
              "      <td>10/7/2016</td>\n",
              "      <td>50</td>\n",
              "      <td>Bechalor</td>\n",
              "      <td>female</td>\n",
              "    </tr>\n",
              "    <tr>\n",
              "      <th>1</th>\n",
              "      <td>5</td>\n",
              "      <td>5</td>\n",
              "      <td>PAIDOFF</td>\n",
              "      <td>300</td>\n",
              "      <td>7</td>\n",
              "      <td>9/9/2016</td>\n",
              "      <td>9/15/2016</td>\n",
              "      <td>35</td>\n",
              "      <td>Master or Above</td>\n",
              "      <td>male</td>\n",
              "    </tr>\n",
              "    <tr>\n",
              "      <th>2</th>\n",
              "      <td>21</td>\n",
              "      <td>21</td>\n",
              "      <td>PAIDOFF</td>\n",
              "      <td>1000</td>\n",
              "      <td>30</td>\n",
              "      <td>9/10/2016</td>\n",
              "      <td>10/9/2016</td>\n",
              "      <td>43</td>\n",
              "      <td>High School or Below</td>\n",
              "      <td>female</td>\n",
              "    </tr>\n",
              "    <tr>\n",
              "      <th>3</th>\n",
              "      <td>24</td>\n",
              "      <td>24</td>\n",
              "      <td>PAIDOFF</td>\n",
              "      <td>1000</td>\n",
              "      <td>30</td>\n",
              "      <td>9/10/2016</td>\n",
              "      <td>10/9/2016</td>\n",
              "      <td>26</td>\n",
              "      <td>college</td>\n",
              "      <td>male</td>\n",
              "    </tr>\n",
              "    <tr>\n",
              "      <th>4</th>\n",
              "      <td>35</td>\n",
              "      <td>35</td>\n",
              "      <td>PAIDOFF</td>\n",
              "      <td>800</td>\n",
              "      <td>15</td>\n",
              "      <td>9/11/2016</td>\n",
              "      <td>9/25/2016</td>\n",
              "      <td>29</td>\n",
              "      <td>Bechalor</td>\n",
              "      <td>male</td>\n",
              "    </tr>\n",
              "  </tbody>\n",
              "</table>\n",
              "</div>"
            ],
            "text/plain": [
              "   Unnamed: 0  Unnamed: 0.1 loan_status  ...  age             education  Gender\n",
              "0           1             1     PAIDOFF  ...   50              Bechalor  female\n",
              "1           5             5     PAIDOFF  ...   35       Master or Above    male\n",
              "2          21            21     PAIDOFF  ...   43  High School or Below  female\n",
              "3          24            24     PAIDOFF  ...   26               college    male\n",
              "4          35            35     PAIDOFF  ...   29              Bechalor    male\n",
              "\n",
              "[5 rows x 10 columns]"
            ]
          },
          "metadata": {
            "tags": []
          },
          "execution_count": 30
        }
      ]
    },
    {
      "cell_type": "code",
      "metadata": {
        "colab": {
          "base_uri": "https://localhost:8080/"
        },
        "id": "QiX3QsW4Ensm",
        "outputId": "e636630c-2218-4320-f21d-534b207cb954"
      },
      "source": [
        "xtest,ytest=preprocess(test_df)\n",
        "xtest= preprocessing.StandardScaler().fit(xtest).transform(xtest)\n",
        "print(xtest)\n",
        "print(ytest)"
      ],
      "execution_count": 31,
      "outputs": [
        {
          "output_type": "stream",
          "text": [
            "[[ 0.49362588  0.92844966  3.05981865  1.97714211 -1.30384048  2.39791576\n",
            "  -0.79772404 -0.86135677]\n",
            " [-3.56269116 -1.70427745  0.53336288 -0.50578054  0.76696499 -0.41702883\n",
            "  -0.79772404 -0.86135677]\n",
            " [ 0.49362588  0.92844966  1.88080596  1.97714211  0.76696499 -0.41702883\n",
            "   1.25356634 -0.86135677]\n",
            " [ 0.49362588  0.92844966 -0.98251057 -0.50578054  0.76696499 -0.41702883\n",
            "  -0.79772404  1.16095912]\n",
            " [-0.66532184 -0.78854628 -0.47721942 -0.50578054  0.76696499  2.39791576\n",
            "  -0.79772404 -0.86135677]\n",
            " [-1.24479571 -0.78854628  0.19650211 -0.50578054  0.76696499 -0.41702883\n",
            "   1.25356634 -0.86135677]\n",
            " [ 0.49362588 -0.78854628 -1.31937134 -0.50578054  0.76696499 -0.41702883\n",
            "  -0.79772404  1.16095912]\n",
            " [ 0.49362588  0.92844966  0.02807173 -0.50578054  0.76696499  2.39791576\n",
            "  -0.79772404 -0.86135677]\n",
            " [-0.66532184 -0.78854628 -0.81408019  1.97714211  0.76696499 -0.41702883\n",
            "  -0.79772404  1.16095912]\n",
            " [ 0.49362588 -0.78854628  0.87022365 -0.50578054  0.76696499 -0.41702883\n",
            "  -0.79772404  1.16095912]\n",
            " [-0.66532184 -0.78854628 -1.31937134 -0.50578054  0.76696499 -0.41702883\n",
            "   1.25356634 -0.86135677]\n",
            " [-3.56269116 -1.70427745  0.53336288 -0.50578054  0.76696499 -0.41702883\n",
            "  -0.79772404  1.16095912]\n",
            " [ 0.49362588  0.92844966 -0.14035865 -0.50578054  0.76696499  2.39791576\n",
            "  -0.79772404 -0.86135677]\n",
            " [ 0.49362588  0.92844966  0.87022365  1.97714211  0.76696499 -0.41702883\n",
            "  -0.79772404  1.16095912]\n",
            " [ 0.49362588  0.92844966  0.87022365  1.97714211  0.76696499 -0.41702883\n",
            "   1.25356634 -0.86135677]\n",
            " [ 0.49362588  0.92844966  0.19650211 -0.50578054  0.76696499 -0.41702883\n",
            "  -0.79772404  1.16095912]\n",
            " [-0.66532184 -0.78854628  1.88080596 -0.50578054  0.76696499  2.39791576\n",
            "  -0.79772404 -0.86135677]\n",
            " [ 0.49362588 -1.70427745  0.02807173  1.97714211  0.76696499  2.39791576\n",
            "  -0.79772404 -0.86135677]\n",
            " [ 0.49362588 -0.78854628 -0.98251057 -0.50578054  0.76696499 -0.41702883\n",
            "   1.25356634 -0.86135677]\n",
            " [ 0.49362588 -1.70427745 -0.47721942 -0.50578054  0.76696499 -0.41702883\n",
            "   1.25356634 -0.86135677]\n",
            " [ 0.49362588  0.92844966 -0.30878904 -0.50578054  0.76696499 -0.41702883\n",
            "  -0.79772404  1.16095912]\n",
            " [ 0.49362588 -1.70427745 -0.81408019 -0.50578054  0.76696499 -0.41702883\n",
            "   1.25356634 -0.86135677]\n",
            " [-3.56269116 -1.70427745  0.87022365 -0.50578054 -1.30384048 -0.41702883\n",
            "  -0.79772404 -0.86135677]\n",
            " [ 0.49362588 -0.78854628 -0.47721942 -0.50578054 -1.30384048 -0.41702883\n",
            "  -0.79772404  1.16095912]\n",
            " [ 0.49362588 -0.78854628 -0.98251057 -0.50578054 -1.30384048  2.39791576\n",
            "  -0.79772404 -0.86135677]\n",
            " [-0.66532184  0.92844966 -0.64564981 -0.50578054 -1.30384048 -0.41702883\n",
            "  -0.79772404  1.16095912]\n",
            " [ 0.49362588  0.92844966  1.03865404 -0.50578054 -1.30384048 -0.41702883\n",
            "  -0.79772404  1.16095912]\n",
            " [ 0.49362588  0.92844966  2.38609711 -0.50578054 -1.30384048 -0.41702883\n",
            "  -0.79772404  1.16095912]\n",
            " [ 0.49362588  0.92844966  0.19650211 -0.50578054 -1.30384048  2.39791576\n",
            "  -0.79772404 -0.86135677]\n",
            " [ 0.49362588  0.92844966 -0.47721942 -0.50578054 -1.30384048 -0.41702883\n",
            "  -0.79772404  1.16095912]\n",
            " [ 0.49362588  0.92844966 -0.47721942 -0.50578054 -1.30384048 -0.41702883\n",
            "  -0.79772404  1.16095912]\n",
            " [ 0.49362588 -0.78854628  0.70179327 -0.50578054 -1.30384048 -0.41702883\n",
            "   1.25356634 -0.86135677]\n",
            " [ 0.49362588  0.92844966 -0.47721942 -0.50578054 -1.30384048 -0.41702883\n",
            "  -0.79772404  1.16095912]\n",
            " [ 0.49362588  0.92844966 -0.30878904 -0.50578054 -1.30384048 -0.41702883\n",
            "  -0.79772404  1.16095912]\n",
            " [ 0.49362588 -0.78854628  0.70179327 -0.50578054 -1.30384048 -0.41702883\n",
            "   1.25356634 -0.86135677]\n",
            " [ 0.49362588  0.92844966 -0.47721942 -0.50578054 -1.30384048 -0.41702883\n",
            "  -0.79772404  1.16095912]\n",
            " [ 0.49362588  0.92844966 -0.64564981 -0.50578054 -1.30384048 -0.41702883\n",
            "   1.25356634 -0.86135677]\n",
            " [-0.66532184 -0.78854628 -1.48780173 -0.50578054 -1.30384048 -0.41702883\n",
            "  -0.79772404  1.16095912]\n",
            " [ 0.49362588  0.92844966  1.03865404  1.97714211 -1.30384048 -0.41702883\n",
            "   1.25356634 -0.86135677]\n",
            " [ 0.49362588  0.92844966 -0.30878904  1.97714211 -1.30384048 -0.41702883\n",
            "  -0.79772404  1.16095912]\n",
            " [ 0.49362588  0.92844966  0.19650211 -0.50578054  0.76696499 -0.41702883\n",
            "   1.25356634 -0.86135677]\n",
            " [ 0.49362588 -0.78854628 -0.14035865  1.97714211  0.76696499 -0.41702883\n",
            "   1.25356634 -0.86135677]\n",
            " [-0.66532184 -0.78854628  1.54394519 -0.50578054  0.76696499 -0.41702883\n",
            "  -0.79772404  1.16095912]\n",
            " [ 0.49362588  0.92844966 -0.30878904 -0.50578054  0.76696499 -0.41702883\n",
            "  -0.79772404  1.16095912]\n",
            " [-0.66532184 -0.78854628 -0.98251057  1.97714211  0.76696499 -0.41702883\n",
            "   1.25356634 -0.86135677]\n",
            " [ 0.49362588  0.92844966 -1.99309288 -0.50578054  0.76696499 -0.41702883\n",
            "   1.25356634 -0.86135677]\n",
            " [ 0.49362588 -0.78854628 -0.98251057 -0.50578054  0.76696499 -0.41702883\n",
            "   1.25356634 -0.86135677]\n",
            " [ 0.49362588  0.92844966 -1.31937134  1.97714211  0.76696499 -0.41702883\n",
            "   1.25356634 -0.86135677]\n",
            " [-0.66532184 -0.78854628 -0.81408019 -0.50578054  0.76696499 -0.41702883\n",
            "  -0.79772404  1.16095912]\n",
            " [ 0.49362588  0.92844966  0.02807173 -0.50578054  0.76696499 -0.41702883\n",
            "   1.25356634 -0.86135677]\n",
            " [-0.66532184 -0.78854628 -0.47721942 -0.50578054  0.76696499 -0.41702883\n",
            "  -0.79772404  1.16095912]\n",
            " [ 0.49362588  0.92844966  0.87022365 -0.50578054  0.76696499 -0.41702883\n",
            "   1.25356634 -0.86135677]\n",
            " [-0.66532184 -0.78854628  0.70179327 -0.50578054  0.76696499 -0.41702883\n",
            "   1.25356634 -0.86135677]\n",
            " [ 0.49362588  0.92844966  0.19650211 -0.50578054 -1.30384048 -0.41702883\n",
            "   1.25356634 -0.86135677]]\n",
            "[0 0 0 0 0 0 0 0 0 0 0 0 0 0 0 0 0 0 0 0 0 0 0 0 0 0 0 0 0 0 0 0 0 0 0 0 0\n",
            " 0 0 0 1 1 1 1 1 1 1 1 1 1 1 1 1 1]\n"
          ],
          "name": "stdout"
        }
      ]
    },
    {
      "cell_type": "code",
      "metadata": {
        "colab": {
          "base_uri": "https://localhost:8080/"
        },
        "id": "e0tL-9pYEnsm",
        "outputId": "bef90fa0-76ee-4b27-df6c-0320cb7dd9ae"
      },
      "source": [
        "yhat=neigh.predict(xtest)\n",
        "jac_sc=jaccard_score(ytest,yhat,labels=None,average='weighted',sample_weight=None)\n",
        "f1_sc=f1_score(ytest,yhat,average='micro')\n",
        "mean_acc=metrics.accuracy_score(ytest,yhat)\n",
        "    \n",
        "print(\"KNN with k=6\")\n",
        "print(\"jaccard score was\", jac_sc.max())\n",
        "print( \"The f1 score was \", f1_sc.max())\n",
        "print( \"The accuracy was \", mean_acc.max())"
      ],
      "execution_count": 32,
      "outputs": [
        {
          "output_type": "stream",
          "text": [
            "KNN with k=6\n",
            "jaccard score was 0.6005355846042121\n",
            "The f1 score was  0.7592592592592593\n",
            "The accuracy was  0.7592592592592593\n"
          ],
          "name": "stdout"
        }
      ]
    },
    {
      "cell_type": "code",
      "metadata": {
        "colab": {
          "base_uri": "https://localhost:8080/"
        },
        "id": "RgJvjjI5Ensn",
        "outputId": "5728bfc3-a359-4767-f7ac-0fd5ffeac5b0"
      },
      "source": [
        "yhat=loanlyTree.predict(xtest)\n",
        "jac_sc=jaccard_score(ytest,yhat,labels=None,average='weighted',sample_weight=None)\n",
        "f1_sc=f1_score(ytest,yhat,average='micro')\n",
        "mean_acc=metrics.accuracy_score(ytest,yhat)\n",
        "\n",
        "print(\"DECISION TREE\")\n",
        "print( \"The jaccard score was with\", jac_sc)\n",
        "print( \"The f1 score was with\", f1_sc)\n",
        "print( \"The accuracy was with\", mean_acc)"
      ],
      "execution_count": 33,
      "outputs": [
        {
          "output_type": "stream",
          "text": [
            "DECISION TREE\n",
            "The jaccard score was with 0.6277777777777778\n",
            "The f1 score was with 0.7777777777777778\n",
            "The accuracy was with 0.7777777777777778\n"
          ],
          "name": "stdout"
        }
      ]
    },
    {
      "cell_type": "code",
      "metadata": {
        "colab": {
          "base_uri": "https://localhost:8080/"
        },
        "id": "iLtKQsuFEnsn",
        "outputId": "50a5e628-6227-482b-9d41-fec413c5bfbe"
      },
      "source": [
        "yhat=clf.predict(xtest)\n",
        "jac_sc=jaccard_score(ytest,yhat,labels=None,average='weighted',sample_weight=None)\n",
        "f1_sc=f1_score(ytest,yhat,average='micro')\n",
        "mean_acc=metrics.accuracy_score(ytest,yhat)\n",
        "\n",
        "print(\"SUPPORT VECTOR MACHINE\")\n",
        "print( \"The jaccard score was with\", jac_sc)\n",
        "print( \"The f1 score was with\", f1_sc)\n",
        "print( \"The accuracy was with\", mean_acc)"
      ],
      "execution_count": 34,
      "outputs": [
        {
          "output_type": "stream",
          "text": [
            "SUPPORT VECTOR MACHINE\n",
            "The jaccard score was with 0.5737179487179487\n",
            "The f1 score was with 0.7407407407407407\n",
            "The accuracy was with 0.7407407407407407\n"
          ],
          "name": "stdout"
        }
      ]
    },
    {
      "cell_type": "code",
      "metadata": {
        "colab": {
          "base_uri": "https://localhost:8080/"
        },
        "id": "sSXWi_IUEnso",
        "outputId": "64aef5ba-2534-48e0-9b85-61edc15f1702"
      },
      "source": [
        "yhat=LR.predict(xtest)\n",
        "jac_sc=jaccard_score(ytest,yhat,labels=None,average='weighted',sample_weight=None)\n",
        "f1_sc=f1_score(ytest,yhat,average='micro')\n",
        "log_los=log_loss(ytest,yhat)\n",
        "mean_acc=metrics.accuracy_score(ytest,yhat)\n",
        "\n",
        "print(\"LOGISTIC REGRESSION\")\n",
        "print( \"The jaccard score was with\", jac_sc)\n",
        "print( \"The f1 score was with\", f1_sc)\n",
        "print( \"The log loss was with\", log_los)\n",
        "print( \"The accuracy was with\", mean_acc)"
      ],
      "execution_count": 35,
      "outputs": [
        {
          "output_type": "stream",
          "text": [
            "LOGISTIC REGRESSION\n",
            "The jaccard score was with 0.5486968449931412\n",
            "The f1 score was with 0.7407407407407407\n",
            "The log loss was with 8.954497583865733\n",
            "The accuracy was with 0.7407407407407407\n"
          ],
          "name": "stdout"
        }
      ]
    },
    {
      "cell_type": "markdown",
      "metadata": {
        "id": "IXSsSgMhEnso"
      },
      "source": [
        "# Report\n",
        "\n",
        "You should be able to report the accuracy of the built model using different evaluation metrics:\n"
      ]
    },
    {
      "cell_type": "markdown",
      "metadata": {
        "id": "hNponv84Ensp"
      },
      "source": [
        "| Algorithm          | Jaccard | F1-score | LogLoss |\n",
        "| ------------------ | ------- | -------- | ------- |\n",
        "| KNN                | 0.601   | 0.759    | NA      |\n",
        "| Decision Tree      | 0.627   | 0.777    | NA      |\n",
        "| SVM                | 0.573   | 0.740    | NA      |\n",
        "| LogisticRegression | 0.548   | 0.740    | 8.954   |\n"
      ]
    },
    {
      "cell_type": "markdown",
      "metadata": {
        "button": false,
        "new_sheet": false,
        "run_control": {
          "read_only": false
        },
        "id": "f-zn7Il6Ensp"
      },
      "source": [
        "<h2>Want to learn more?</h2>\n",
        "\n",
        "IBM SPSS Modeler is a comprehensive analytics platform that has many machine learning algorithms. It has been designed to bring predictive intelligence to decisions made by individuals, by groups, by systems – by your enterprise as a whole. A free trial is available through this course, available here: <a href=\"http://cocl.us/ML0101EN-SPSSModeler\">SPSS Modeler</a>\n",
        "\n",
        "Also, you can use Watson Studio to run these notebooks faster with bigger datasets. Watson Studio is IBM's leading cloud solution for data scientists, built by data scientists. With Jupyter notebooks, RStudio, Apache Spark and popular libraries pre-packaged in the cloud, Watson Studio enables data scientists to collaborate on their projects without having to install anything. Join the fast-growing community of Watson Studio users today with a free account at <a href=\"https://cocl.us/ML0101EN_DSX\">Watson Studio</a>\n",
        "\n",
        "<h3>Thanks for completing this lesson!</h3>\n",
        "\n",
        "<h4>Author:  <a href=\"https://ca.linkedin.com/in/saeedaghabozorgi\">Saeed Aghabozorgi</a></h4>\n",
        "<p><a href=\"https://ca.linkedin.com/in/saeedaghabozorgi\">Saeed Aghabozorgi</a>, PhD is a Data Scientist in IBM with a track record of developing enterprise level applications that substantially increases clients’ ability to turn data into actionable knowledge. He is a researcher in data mining field and expert in developing advanced analytic methods like machine learning and statistical modelling on large datasets.</p>\n",
        "\n",
        "<hr>\n",
        "\n",
        "## Change Log\n",
        "\n",
        "| Date (YYYY-MM-DD) | Version | Changed By    | Change Description                                                             |\n",
        "| ----------------- | ------- | ------------- | ------------------------------------------------------------------------------ |\n",
        "| 2020-10-27        | 2.1     | Lakshmi Holla | Made changes in import statement due to updates in version of  sklearn library |\n",
        "| 2020-08-27        | 2.0     | Malika Singla | Added lab to GitLab                                                            |\n",
        "\n",
        "<hr>\n",
        "\n",
        "## <h3 align=\"center\"> © IBM Corporation 2020. All rights reserved. <h3/>\n",
        "\n",
        "<p>\n"
      ]
    }
  ]
}