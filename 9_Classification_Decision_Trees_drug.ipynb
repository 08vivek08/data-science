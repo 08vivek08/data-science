{
  "nbformat": 4,
  "nbformat_minor": 0,
  "metadata": {
    "colab": {
      "name": "9-Classification-Decision-Trees-drug.ipynb",
      "provenance": [],
      "collapsed_sections": [],
      "authorship_tag": "ABX9TyODGwuh7kqmcZogA22Vshe5",
      "include_colab_link": true
    },
    "kernelspec": {
      "name": "python3",
      "display_name": "Python 3"
    }
  },
  "cells": [
    {
      "cell_type": "markdown",
      "metadata": {
        "id": "view-in-github",
        "colab_type": "text"
      },
      "source": [
        "<a href=\"https://colab.research.google.com/github/08vivek08/data-science/blob/main/9_Classification_Decision_Trees_drug.ipynb\" target=\"_parent\"><img src=\"https://colab.research.google.com/assets/colab-badge.svg\" alt=\"Open In Colab\"/></a>"
      ]
    },
    {
      "cell_type": "code",
      "metadata": {
        "id": "AoY7ewGsPI6u"
      },
      "source": [
        "import numpy as np\n",
        "import pandas as pd\n",
        "from sklearn.tree import DecisionTreeClassifier"
      ],
      "execution_count": 1,
      "outputs": []
    },
    {
      "cell_type": "markdown",
      "metadata": {
        "id": "izyMt8RBnxqK"
      },
      "source": [
        "<div id=\"about_dataset\">\n",
        "    <h2>About the dataset</h2>\n",
        "    Imagine that you are a medical researcher compiling data for a study. You have collected data about a set of patients, all of whom suffered from the same illness. During their course of treatment, each patient responded to one of 5 medications, Drug A, Drug B, Drug c, Drug x and y. \n",
        "    <br>\n",
        "    <br>\n",
        "    Part of your job is to build a model to find out which drug might be appropriate for a future patient with the same illness. The feature sets of this dataset are Age, Sex, Blood Pressure, and Cholesterol of patients, and the target is the drug that each patient responded to.\n",
        "    <br>\n",
        "    <br>\n",
        "    It is a sample of multiclass classifier, and you can use the training part of the dataset \n",
        "    to build a decision tree, and then use it to predict the class of a unknown patient, or to prescribe it to a new patient.\n",
        "</div>\n"
      ]
    },
    {
      "cell_type": "code",
      "metadata": {
        "colab": {
          "base_uri": "https://localhost:8080/"
        },
        "id": "XP2ZcoPIPmoV",
        "outputId": "e7a48b4b-8046-40f3-f47e-b4dda5bfbdae"
      },
      "source": [
        "!wget -O drug200.csv https://cf-courses-data.s3.us.cloud-object-storage.appdomain.cloud/IBMDeveloperSkillsNetwork-ML0101EN-SkillsNetwork/labs/Module%203/data/drug200.csv"
      ],
      "execution_count": 2,
      "outputs": [
        {
          "output_type": "stream",
          "text": [
            "--2020-12-28 09:19:55--  https://cf-courses-data.s3.us.cloud-object-storage.appdomain.cloud/IBMDeveloperSkillsNetwork-ML0101EN-SkillsNetwork/labs/Module%203/data/drug200.csv\n",
            "Resolving cf-courses-data.s3.us.cloud-object-storage.appdomain.cloud (cf-courses-data.s3.us.cloud-object-storage.appdomain.cloud)... 169.45.118.108\n",
            "Connecting to cf-courses-data.s3.us.cloud-object-storage.appdomain.cloud (cf-courses-data.s3.us.cloud-object-storage.appdomain.cloud)|169.45.118.108|:443... connected.\n",
            "HTTP request sent, awaiting response... 200 OK\n",
            "Length: 5827 (5.7K) [text/csv]\n",
            "Saving to: ‘drug200.csv’\n",
            "\n",
            "drug200.csv         100%[===================>]   5.69K  --.-KB/s    in 0s      \n",
            "\n",
            "2020-12-28 09:19:56 (574 MB/s) - ‘drug200.csv’ saved [5827/5827]\n",
            "\n"
          ],
          "name": "stdout"
        }
      ]
    },
    {
      "cell_type": "code",
      "metadata": {
        "colab": {
          "base_uri": "https://localhost:8080/",
          "height": 204
        },
        "id": "F82TL0hNQHgJ",
        "outputId": "38f1017d-60f7-4da4-e172-7e5cea929bc0"
      },
      "source": [
        "my_data=pd.read_csv(\"drug200.csv\",delimiter=\",\")\n",
        "my_data[0:5]"
      ],
      "execution_count": 3,
      "outputs": [
        {
          "output_type": "execute_result",
          "data": {
            "text/html": [
              "<div>\n",
              "<style scoped>\n",
              "    .dataframe tbody tr th:only-of-type {\n",
              "        vertical-align: middle;\n",
              "    }\n",
              "\n",
              "    .dataframe tbody tr th {\n",
              "        vertical-align: top;\n",
              "    }\n",
              "\n",
              "    .dataframe thead th {\n",
              "        text-align: right;\n",
              "    }\n",
              "</style>\n",
              "<table border=\"1\" class=\"dataframe\">\n",
              "  <thead>\n",
              "    <tr style=\"text-align: right;\">\n",
              "      <th></th>\n",
              "      <th>Age</th>\n",
              "      <th>Sex</th>\n",
              "      <th>BP</th>\n",
              "      <th>Cholesterol</th>\n",
              "      <th>Na_to_K</th>\n",
              "      <th>Drug</th>\n",
              "    </tr>\n",
              "  </thead>\n",
              "  <tbody>\n",
              "    <tr>\n",
              "      <th>0</th>\n",
              "      <td>23</td>\n",
              "      <td>F</td>\n",
              "      <td>HIGH</td>\n",
              "      <td>HIGH</td>\n",
              "      <td>25.355</td>\n",
              "      <td>drugY</td>\n",
              "    </tr>\n",
              "    <tr>\n",
              "      <th>1</th>\n",
              "      <td>47</td>\n",
              "      <td>M</td>\n",
              "      <td>LOW</td>\n",
              "      <td>HIGH</td>\n",
              "      <td>13.093</td>\n",
              "      <td>drugC</td>\n",
              "    </tr>\n",
              "    <tr>\n",
              "      <th>2</th>\n",
              "      <td>47</td>\n",
              "      <td>M</td>\n",
              "      <td>LOW</td>\n",
              "      <td>HIGH</td>\n",
              "      <td>10.114</td>\n",
              "      <td>drugC</td>\n",
              "    </tr>\n",
              "    <tr>\n",
              "      <th>3</th>\n",
              "      <td>28</td>\n",
              "      <td>F</td>\n",
              "      <td>NORMAL</td>\n",
              "      <td>HIGH</td>\n",
              "      <td>7.798</td>\n",
              "      <td>drugX</td>\n",
              "    </tr>\n",
              "    <tr>\n",
              "      <th>4</th>\n",
              "      <td>61</td>\n",
              "      <td>F</td>\n",
              "      <td>LOW</td>\n",
              "      <td>HIGH</td>\n",
              "      <td>18.043</td>\n",
              "      <td>drugY</td>\n",
              "    </tr>\n",
              "  </tbody>\n",
              "</table>\n",
              "</div>"
            ],
            "text/plain": [
              "   Age Sex      BP Cholesterol  Na_to_K   Drug\n",
              "0   23   F    HIGH        HIGH   25.355  drugY\n",
              "1   47   M     LOW        HIGH   13.093  drugC\n",
              "2   47   M     LOW        HIGH   10.114  drugC\n",
              "3   28   F  NORMAL        HIGH    7.798  drugX\n",
              "4   61   F     LOW        HIGH   18.043  drugY"
            ]
          },
          "metadata": {
            "tags": []
          },
          "execution_count": 3
        }
      ]
    },
    {
      "cell_type": "code",
      "metadata": {
        "colab": {
          "base_uri": "https://localhost:8080/"
        },
        "id": "sAJAKIasQZn6",
        "outputId": "91274521-1826-4929-ecdf-4521d6d5f463"
      },
      "source": [
        "X=my_data[['Age','Sex','BP','Cholesterol','Na_to_K']].values\n",
        "X[0:5]"
      ],
      "execution_count": 4,
      "outputs": [
        {
          "output_type": "execute_result",
          "data": {
            "text/plain": [
              "array([[23, 'F', 'HIGH', 'HIGH', 25.355],\n",
              "       [47, 'M', 'LOW', 'HIGH', 13.093],\n",
              "       [47, 'M', 'LOW', 'HIGH', 10.113999999999999],\n",
              "       [28, 'F', 'NORMAL', 'HIGH', 7.797999999999999],\n",
              "       [61, 'F', 'LOW', 'HIGH', 18.043]], dtype=object)"
            ]
          },
          "metadata": {
            "tags": []
          },
          "execution_count": 4
        }
      ]
    },
    {
      "cell_type": "markdown",
      "metadata": {
        "id": "F-Zd0NaSWKXO"
      },
      "source": [
        "As you may figure out, some features in this dataset are categorical such as **Sex** or **BP**. Unfortunately, Sklearn Decision Trees do not handle categorical variables. But still we can convert these features to numerical values. **pandas.get_dummies()**\n",
        "Convert categorical variable into dummy/indicator variables.\n"
      ]
    },
    {
      "cell_type": "code",
      "metadata": {
        "colab": {
          "base_uri": "https://localhost:8080/"
        },
        "id": "C48xXz9HRBgW",
        "outputId": "7dc4a114-e3d5-4e65-8579-8332fea246af"
      },
      "source": [
        "from sklearn import preprocessing\n",
        "le_sex=preprocessing.LabelEncoder()\n",
        "le_sex.fit(['F','M'])\n",
        "X[:,1]=le_sex.transform(X[:,1])\n",
        "\n",
        "le_BP=preprocessing.LabelEncoder()\n",
        "le_BP.fit(['LOW','NORMAL','HIGH'])\n",
        "X[:,2]=le_BP.transform(X[:,2])\n",
        "\n",
        "le_Chol=preprocessing.LabelEncoder()\n",
        "le_Chol.fit(['NORMAL','HIGH'])\n",
        "X[:,3]=le_Chol.transform(X[:,3])\n",
        "\n",
        "X[0:5]"
      ],
      "execution_count": 5,
      "outputs": [
        {
          "output_type": "execute_result",
          "data": {
            "text/plain": [
              "array([[23, 0, 0, 0, 25.355],\n",
              "       [47, 1, 1, 0, 13.093],\n",
              "       [47, 1, 1, 0, 10.113999999999999],\n",
              "       [28, 0, 2, 0, 7.797999999999999],\n",
              "       [61, 0, 1, 0, 18.043]], dtype=object)"
            ]
          },
          "metadata": {
            "tags": []
          },
          "execution_count": 5
        }
      ]
    },
    {
      "cell_type": "code",
      "metadata": {
        "colab": {
          "base_uri": "https://localhost:8080/"
        },
        "id": "KFPFawpgSN0U",
        "outputId": "8299e1fd-6ac0-43b6-87af-5cee5f1ebc19"
      },
      "source": [
        "y=my_data['Drug']\n",
        "y[0:5]"
      ],
      "execution_count": 6,
      "outputs": [
        {
          "output_type": "execute_result",
          "data": {
            "text/plain": [
              "0    drugY\n",
              "1    drugC\n",
              "2    drugC\n",
              "3    drugX\n",
              "4    drugY\n",
              "Name: Drug, dtype: object"
            ]
          },
          "metadata": {
            "tags": []
          },
          "execution_count": 6
        }
      ]
    },
    {
      "cell_type": "markdown",
      "metadata": {
        "id": "O8xoGgPsWdTq"
      },
      "source": [
        "<hr>\n",
        "\n",
        "<div id=\"setting_up_tree\">\n",
        "    <h2>Setting up the Decision Tree</h2>\n",
        "    We will be using <b>train/test split</b> on our <b>decision tree</b>. Let's import <b>train_test_split</b> from <b>sklearn.cross_validation</b>.\n",
        "</div>\n"
      ]
    },
    {
      "cell_type": "markdown",
      "metadata": {
        "id": "5huugxDWWjkS"
      },
      "source": [
        "Now <b> train_test_split </b> will return 4 different parameters. We will name them:<br>\n",
        "X_trainset, X_testset, y_trainset, y_testset <br> <br>\n",
        "The <b> train_test_split </b> will need the parameters: <br>\n",
        "X, y, test_size=0.3, and random_state=3. <br> <br>\n",
        "The <b>X</b> and <b>y</b> are the arrays required before the split, the <b>test_size</b> represents the ratio of the testing dataset, and the <b>random_state</b> ensures that we obtain the same splits.\n"
      ]
    },
    {
      "cell_type": "code",
      "metadata": {
        "id": "PQxZU5MUTtNS"
      },
      "source": [
        "from sklearn.model_selection import train_test_split\n",
        "x_trainset,x_testset,y_trainset,y_testset=train_test_split(X,y,test_size=0.3,random_state=3)"
      ],
      "execution_count": 7,
      "outputs": []
    },
    {
      "cell_type": "code",
      "metadata": {
        "colab": {
          "base_uri": "https://localhost:8080/"
        },
        "id": "7PQ4Rrr0T-Zl",
        "outputId": "ff9e0285-db39-4806-e4d8-17eb63a34f38"
      },
      "source": [
        "print(x_trainset[0:5])\n",
        "print(x_testset[0:5])\n",
        "print(y_trainset[0:5])\n",
        "print(y_testset[0:5])"
      ],
      "execution_count": 8,
      "outputs": [
        {
          "output_type": "stream",
          "text": [
            "[[26 0 0 1 19.160999999999998]\n",
            " [41 0 2 1 22.905]\n",
            " [28 0 2 0 19.675]\n",
            " [19 0 0 0 13.312999999999999]\n",
            " [50 1 2 1 15.79]]\n",
            "[[73 0 2 0 19.221]\n",
            " [67 1 2 1 10.898]\n",
            " [69 0 2 0 10.065]\n",
            " [52 1 2 0 9.894]\n",
            " [28 0 2 0 12.879000000000001]]\n",
            "77    drugY\n",
            "73    drugY\n",
            "71    drugY\n",
            "78    drugA\n",
            "42    drugY\n",
            "Name: Drug, dtype: object\n",
            "40     drugY\n",
            "51     drugX\n",
            "139    drugX\n",
            "197    drugX\n",
            "170    drugX\n",
            "Name: Drug, dtype: object\n"
          ],
          "name": "stdout"
        }
      ]
    },
    {
      "cell_type": "code",
      "metadata": {
        "colab": {
          "base_uri": "https://localhost:8080/"
        },
        "id": "7GLc8Sc9UYno",
        "outputId": "82176d9f-82be-4737-c429-1a3e94bb13ee"
      },
      "source": [
        "print(x_trainset.shape)\n",
        "print(x_testset.shape)\n",
        "print(y_trainset.shape)\n",
        "print(y_testset.shape)"
      ],
      "execution_count": 9,
      "outputs": [
        {
          "output_type": "stream",
          "text": [
            "(140, 5)\n",
            "(60, 5)\n",
            "(140,)\n",
            "(60,)\n"
          ],
          "name": "stdout"
        }
      ]
    },
    {
      "cell_type": "markdown",
      "metadata": {
        "id": "82nCpCjcWtXC"
      },
      "source": [
        "<hr>\n",
        "\n",
        "<div id=\"modeling\">\n",
        "    <h2>Modeling</h2>\n",
        "    We will first create an instance of the <b>DecisionTreeClassifier</b> called <b>drugTree</b>.<br>\n",
        "    Inside of the classifier, specify <i> criterion=\"entropy\" </i> so we can see the information gain of each node.\n",
        "</div>\n"
      ]
    },
    {
      "cell_type": "code",
      "metadata": {
        "colab": {
          "base_uri": "https://localhost:8080/"
        },
        "id": "Cq3o0thVVGL6",
        "outputId": "889fcbc1-98f2-47ba-a98d-f920612f1023"
      },
      "source": [
        "drugTree=DecisionTreeClassifier(criterion=\"entropy\",max_depth=4)\n",
        "drugTree"
      ],
      "execution_count": 10,
      "outputs": [
        {
          "output_type": "execute_result",
          "data": {
            "text/plain": [
              "DecisionTreeClassifier(ccp_alpha=0.0, class_weight=None, criterion='entropy',\n",
              "                       max_depth=4, max_features=None, max_leaf_nodes=None,\n",
              "                       min_impurity_decrease=0.0, min_impurity_split=None,\n",
              "                       min_samples_leaf=1, min_samples_split=2,\n",
              "                       min_weight_fraction_leaf=0.0, presort='deprecated',\n",
              "                       random_state=None, splitter='best')"
            ]
          },
          "metadata": {
            "tags": []
          },
          "execution_count": 10
        }
      ]
    },
    {
      "cell_type": "markdown",
      "metadata": {
        "id": "cuGZj8iVfbzd"
      },
      "source": [
        "Next, we will fit the data with the training feature matrix <b> X_trainset </b> and training  response vector <b> y_trainset </b>\n"
      ]
    },
    {
      "cell_type": "code",
      "metadata": {
        "colab": {
          "base_uri": "https://localhost:8080/"
        },
        "id": "0_egqItKbNTi",
        "outputId": "315a3c7a-243f-4bd6-bdf2-60c8ec740979"
      },
      "source": [
        "drugTree.fit(x_trainset,y_trainset)"
      ],
      "execution_count": 11,
      "outputs": [
        {
          "output_type": "execute_result",
          "data": {
            "text/plain": [
              "DecisionTreeClassifier(ccp_alpha=0.0, class_weight=None, criterion='entropy',\n",
              "                       max_depth=4, max_features=None, max_leaf_nodes=None,\n",
              "                       min_impurity_decrease=0.0, min_impurity_split=None,\n",
              "                       min_samples_leaf=1, min_samples_split=2,\n",
              "                       min_weight_fraction_leaf=0.0, presort='deprecated',\n",
              "                       random_state=None, splitter='best')"
            ]
          },
          "metadata": {
            "tags": []
          },
          "execution_count": 11
        }
      ]
    },
    {
      "cell_type": "markdown",
      "metadata": {
        "id": "IStAb7d_jlGp"
      },
      "source": [
        "<hr>\n",
        "\n",
        "<div id=\"prediction\">\n",
        "    <h2>Prediction</h2>\n",
        "    Let's make some <b>predictions</b> on the testing dataset and store it into a variable called <b>predTree</b>.\n",
        "</div>\n"
      ]
    },
    {
      "cell_type": "code",
      "metadata": {
        "id": "Q9ZdhR_zbg6S"
      },
      "source": [
        "predTree=drugTree.predict(x_testset)"
      ],
      "execution_count": 12,
      "outputs": []
    },
    {
      "cell_type": "code",
      "metadata": {
        "colab": {
          "base_uri": "https://localhost:8080/"
        },
        "id": "jWp3V3mEbour",
        "outputId": "c39cbd99-04cb-4361-e0e8-04ddbe1958a1"
      },
      "source": [
        "print(predTree[0:5])\n",
        "print(y_testset[0:5])"
      ],
      "execution_count": 13,
      "outputs": [
        {
          "output_type": "stream",
          "text": [
            "['drugY' 'drugX' 'drugX' 'drugX' 'drugX']\n",
            "40     drugY\n",
            "51     drugX\n",
            "139    drugX\n",
            "197    drugX\n",
            "170    drugX\n",
            "Name: Drug, dtype: object\n"
          ],
          "name": "stdout"
        }
      ]
    },
    {
      "cell_type": "markdown",
      "metadata": {
        "id": "gTR3REdPjw25"
      },
      "source": [
        "<hr>\n",
        "\n",
        "<div id=\"evaluation\">\n",
        "    <h2>Evaluation</h2>\n",
        "    Next, let's import <b>metrics</b> from sklearn and check the accuracy of our model.\n",
        "</div>\n"
      ]
    },
    {
      "cell_type": "code",
      "metadata": {
        "colab": {
          "base_uri": "https://localhost:8080/"
        },
        "id": "zJN_z8f_byxY",
        "outputId": "85400788-60a0-46d2-d01d-0e1536a36672"
      },
      "source": [
        "from sklearn import metrics\n",
        "import matplotlib.pyplot as plt\n",
        "print(\"DecisionTree's Accuracy: \",metrics.accuracy_score(y_testset,predTree))"
      ],
      "execution_count": 14,
      "outputs": [
        {
          "output_type": "stream",
          "text": [
            "DecisionTree's Accuracy:  0.9833333333333333\n"
          ],
          "name": "stdout"
        }
      ]
    },
    {
      "cell_type": "markdown",
      "metadata": {
        "id": "9T9fwu_-j6eO"
      },
      "source": [
        "**Accuracy classification score** computes subset accuracy: the set of labels predicted for a sample must exactly match the corresponding set of labels in y_true.  \n",
        "\n",
        "In multilabel classification, the function returns the subset accuracy. If the entire set of predicted labels for a sample strictly match with the true set of labels, then the subset accuracy is 1.0; otherwise it is 0.0.\n"
      ]
    },
    {
      "cell_type": "markdown",
      "metadata": {
        "id": "zjmzUAa0kDMM"
      },
      "source": [
        "<hr>\n",
        "\n",
        "<div id=\"visualization\">\n",
        "    <h2>Visualization</h2>\n",
        "    \n",
        "    \n",
        "Lets visualize the tree\n",
        "</div>\n"
      ]
    },
    {
      "cell_type": "code",
      "metadata": {
        "id": "GUWipL8Dcfbm"
      },
      "source": [
        "from io import StringIO\n",
        "import pydotplus\n",
        "import matplotlib.image as mpimg\n",
        "from sklearn import tree\n",
        "%matplotlib inline"
      ],
      "execution_count": 15,
      "outputs": []
    },
    {
      "cell_type": "code",
      "metadata": {
        "colab": {
          "base_uri": "https://localhost:8080/",
          "height": 769
        },
        "id": "5Xfv7XuIPIso",
        "outputId": "53b1dbc4-adbf-41da-c431-e375cd361dc3"
      },
      "source": [
        "dot_data=StringIO()\n",
        "filename=\"drugtree.png\"\n",
        "featureNames=my_data.columns[0:5]\n",
        "targetNames=my_data[\"Drug\"].unique().tolist()\n",
        "out=tree.export_graphviz(drugTree,feature_names=featureNames,out_file=dot_data,class_names=np.unique(y_trainset),special_characters=True,rotate=False)\n",
        "graph=pydotplus.graph_from_dot_data(dot_data.getvalue())\n",
        "graph.write_png(filename)\n",
        "img=mpimg.imread(filename)\n",
        "plt.figure(figsize=(15,15))\n",
        "plt.imshow(img,interpolation='nearest')"
      ],
      "execution_count": 16,
      "outputs": [
        {
          "output_type": "execute_result",
          "data": {
            "text/plain": [
              "<matplotlib.image.AxesImage at 0x7f5c75d867f0>"
            ]
          },
          "metadata": {
            "tags": []
          },
          "execution_count": 16
        },
        {
          "output_type": "display_data",
          "data": {
            "image/png": "[encoded data removed]",
            "text/plain": [
              "<Figure size 1080x1080 with 1 Axes>"
            ]
          },
          "metadata": {
            "tags": [],
            "needs_background": "light"
          }
        }
      ]
    }
  ]
}